{
 "cells": [
  {
   "cell_type": "markdown",
   "id": "23acfee6-d00d-440e-bacc-5e97e38e6cd6",
   "metadata": {},
   "source": [
    "***WAP to print ur name 3 times***"
   ]
  },
  {
   "cell_type": "code",
   "execution_count": 1,
   "id": "a13ba081-c8f9-46c5-96e3-7c1ee097d399",
   "metadata": {},
   "outputs": [
    {
     "name": "stdout",
     "output_type": "stream",
     "text": [
      "Palak Mahajan\n",
      "Palak Mahajan\n",
      "Palak Mahajan\n"
     ]
    }
   ],
   "source": [
    "name=\"Palak Mahajan\"\n",
    "for i in range(3):\n",
    " print(name)"
   ]
  }
 ],
 "metadata": {
  "kernelspec": {
   "display_name": "anaconda-2023.09",
   "language": "python",
   "name": "conda-env-anaconda-2023.09-py"
  },
  "language_info": {
   "codemirror_mode": {
    "name": "ipython",
    "version": 3
   },
   "file_extension": ".py",
   "mimetype": "text/x-python",
   "name": "python",
   "nbconvert_exporter": "python",
   "pygments_lexer": "ipython3",
   "version": "3.11.5"
  }
 },
 "nbformat": 4,
 "nbformat_minor": 5
}
