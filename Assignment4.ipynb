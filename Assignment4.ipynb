{
 "cells": [
  {
   "cell_type": "markdown",
   "id": "aff83e0d-e4ee-414d-ba51-1c1f5dbb04cb",
   "metadata": {},
   "source": [
    "***4.1: WAP to print table of 7 and 9***"
   ]
  },
  {
   "cell_type": "code",
   "execution_count": 10,
   "id": "daebc31c-b038-4146-bcb9-ed5a0d5b56bd",
   "metadata": {},
   "outputs": [
    {
     "name": "stdout",
     "output_type": "stream",
     "text": [
      "7* 1 = 7\n",
      "7* 2 = 14\n",
      "7* 3 = 21\n",
      "7* 4 = 28\n",
      "7* 5 = 35\n",
      "7* 6 = 42\n",
      "7* 7 = 49\n",
      "7* 8 = 56\n",
      "7* 9 = 63\n",
      "7* 10 = 70\n"
     ]
    }
   ],
   "source": [
    "#table of 7\n",
    "for i in range(1,11):\n",
    " print(\"7*\",i,\"=\",7*i)\n",
    " i=i+1"
   ]
  },
  {
   "cell_type": "code",
   "execution_count": 15,
   "id": "dfb3eab1-7510-4199-b3c7-0b3d05aba5ff",
   "metadata": {},
   "outputs": [
    {
     "name": "stdout",
     "output_type": "stream",
     "text": [
      "9* 1 = 9\n",
      "9* 2 = 18\n",
      "9* 3 = 27\n",
      "9* 4 = 36\n",
      "9* 5 = 45\n",
      "9* 6 = 54\n",
      "9* 7 = 63\n",
      "9* 8 = 72\n",
      "9* 9 = 81\n",
      "9* 10 = 90\n"
     ]
    }
   ],
   "source": [
    "#table of 9\n",
    "for i in range(1,11):\n",
    " print(\"9*\",i,\"=\",9*i)\n",
    " i=i+1"
   ]
  },
  {
   "cell_type": "markdown",
   "id": "4a87ebc0-105a-4fae-8a47-dca8630218b5",
   "metadata": {},
   "source": [
    "***4.2: WAP to print table of n where n is given by user***"
   ]
  },
  {
   "cell_type": "code",
   "execution_count": 40,
   "id": "0b9754b5-f0be-4d00-88ad-aea533e009db",
   "metadata": {},
   "outputs": [
    {
     "name": "stdin",
     "output_type": "stream",
     "text": [
      "Enter value of n: 9\n"
     ]
    },
    {
     "name": "stdout",
     "output_type": "stream",
     "text": [
      "9 * 1 = 9\n",
      "9 * 2 = 18\n",
      "9 * 3 = 27\n",
      "9 * 4 = 36\n",
      "9 * 5 = 45\n",
      "9 * 6 = 54\n",
      "9 * 7 = 63\n",
      "9 * 8 = 72\n",
      "9 * 9 = 81\n",
      "9 * 10 = 90\n"
     ]
    }
   ],
   "source": [
    "n=int(input(\"Enter value of n:\"))\n",
    "for i in range(1,11):\n",
    " print(n,\"*\",i,\"=\",n*i)\n",
    " i=i+1"
   ]
  },
  {
   "cell_type": "markdown",
   "id": "5cb69a12-f3b9-44f7-a3cc-f3fcb128c62d",
   "metadata": {},
   "source": [
    "***4.3: WAP to add all no. from 1 to n given by user***"
   ]
  },
  {
   "cell_type": "code",
   "execution_count": 32,
   "id": "b0239504-bf9c-4cc3-ac51-77c8856c067c",
   "metadata": {},
   "outputs": [
    {
     "name": "stdin",
     "output_type": "stream",
     "text": [
      "Enter value of n: 10\n"
     ]
    },
    {
     "name": "stdout",
     "output_type": "stream",
     "text": [
      "Final result for n= 10 is: 55\n"
     ]
    }
   ],
   "source": [
    "n=int(input(\"Enter value of n:\"))\n",
    "count=0\n",
    "for i in range(1,n+1):\n",
    " count=count+i\n",
    "print(\"Final result for n=\",n,\"is:\",count)"
   ]
  },
  {
   "cell_type": "code",
   "execution_count": null,
   "id": "ed62d2da-4221-4aa3-a703-be064872c8b0",
   "metadata": {},
   "outputs": [],
   "source": []
  }
 ],
 "metadata": {
  "kernelspec": {
   "display_name": "anaconda-2024.02-py310",
   "language": "python",
   "name": "conda-env-anaconda-2024.02-py310-py"
  },
  "language_info": {
   "codemirror_mode": {
    "name": "ipython",
    "version": 3
   },
   "file_extension": ".py",
   "mimetype": "text/x-python",
   "name": "python",
   "nbconvert_exporter": "python",
   "pygments_lexer": "ipython3",
   "version": "3.10.14"
  }
 },
 "nbformat": 4,
 "nbformat_minor": 5
}
