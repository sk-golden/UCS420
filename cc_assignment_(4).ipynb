{
  "nbformat": 4,
  "nbformat_minor": 0,
  "metadata": {
    "colab": {
      "provenance": []
    },
    "kernelspec": {
      "name": "python3",
      "display_name": "Python 3"
    },
    "language_info": {
      "name": "python"
    }
  },
  "cells": [
    {
      "cell_type": "markdown",
      "source": [
        "Q.1 Write a program to create a NumPy 1D-array with 5 elements and perform basic\n",
        "operations like:\n",
        "a) Addition of 2 in all the element\n",
        "b) Multiply 3 with all the elements\n",
        "c) Divide every element by 2"
      ],
      "metadata": {
        "id": "h8dhcsrHOwmU"
      }
    },
    {
      "cell_type": "code",
      "execution_count": 1,
      "metadata": {
        "colab": {
          "base_uri": "https://localhost:8080/"
        },
        "id": "rxnkJ1XsNy8z",
        "outputId": "340f0ba1-a876-4e39-963c-33fd3266d2ae"
      },
      "outputs": [
        {
          "output_type": "stream",
          "name": "stdout",
          "text": [
            "Original Array: [1 2 3 4 5]\n",
            "After Addition: [3 4 5 6 7]\n",
            "After Multiplication: [ 3  6  9 12 15]\n",
            "After Division: [0.5 1.  1.5 2.  2.5]\n"
          ]
        }
      ],
      "source": [
        "import numpy as np\n",
        "\n",
        "arr = np.array([1, 2, 3, 4, 5])\n",
        "\n",
        "# a)\n",
        "addition = arr + 2\n",
        "\n",
        "# b)\n",
        "multiplication = arr * 3\n",
        "\n",
        "# c)\n",
        "division = arr / 2\n",
        "\n",
        "print(\"Original Array:\", arr)\n",
        "print(\"After Addition:\", addition)\n",
        "print(\"After Multiplication:\", multiplication)\n",
        "print(\"After Division:\", division)\n"
      ]
    },
    {
      "cell_type": "markdown",
      "source": [
        "Q.2 Questions on Basic NumPy Array:\n",
        "a) Reverse the NumPy array: arr = np.array([1, 2, 3, 6, 4, 5])\n",
        "b) Find the most frequent value and their indice(s) in the following arrays:\n",
        "i. x = np.array([1,2,3,4,5,1,2,1,1,1])\n",
        "ii. y = np.array([1, 1, 1, 2, 3, 4, 2, 4, 3, 3, ])\n"
      ],
      "metadata": {
        "id": "OLKLZud-PFUh"
      }
    },
    {
      "cell_type": "code",
      "source": [
        "# a)\n",
        "arr = np.array([1, 2, 3, 6, 4, 5])\n",
        "reversed_arr = arr[::-1]\n",
        "print(\"Reversed Array:\", reversed_arr)\n",
        "\n",
        "# b)\n",
        "x = np.array([1, 2, 3, 4, 5, 1, 2, 1, 1, 1])\n",
        "y = np.array([1, 1, 1, 2, 3, 4, 2, 4, 3, 3])\n",
        "\n",
        "def most_frequent(arr):\n",
        "    unique, counts = np.unique(arr, return_counts=True)\n",
        "    max_freq = unique[np.argmax(counts)]\n",
        "    indices = np.where(arr == max_freq)[0]\n",
        "    return max_freq, indices\n",
        "\n",
        "freq_x, indices_x = most_frequent(x)\n",
        "freq_y, indices_y = most_frequent(y)\n",
        "\n",
        "print(f\"Most frequent value in x: {freq_x}, Indices: {indices_x}\")\n",
        "print(f\"Most frequent value in y: {freq_y}, Indices: {indices_y}\")\n"
      ],
      "metadata": {
        "colab": {
          "base_uri": "https://localhost:8080/"
        },
        "id": "r1ooFIS3O6H7",
        "outputId": "4764c9d4-4d48-45ba-e22e-e5df336a2d3a"
      },
      "execution_count": 2,
      "outputs": [
        {
          "output_type": "stream",
          "name": "stdout",
          "text": [
            "Reversed Array: [5 4 6 3 2 1]\n",
            "Most frequent value in x: 1, Indices: [0 5 7 8 9]\n",
            "Most frequent value in y: 1, Indices: [0 1 2]\n"
          ]
        }
      ]
    },
    {
      "cell_type": "markdown",
      "source": [
        "Q.3 For the given 2-D array arr=np.array([10, 20, 30], [40, 50, 60], [70, 80, 90]), access\n",
        "elements using row and column indices as follows:\n",
        "a) Access 1st row, 2nd column\n",
        "b) Access 3rd row, 1st column\n"
      ],
      "metadata": {
        "id": "sjBdnhpSPT3f"
      }
    },
    {
      "cell_type": "code",
      "source": [
        "arr = np.array([[10, 20, 30], [40, 50, 60], [70, 80, 90]])\n",
        "\n",
        "# a)\n",
        "value1 = arr[0, 1]\n",
        "\n",
        "# b)\n",
        "value2 = arr[2, 0]\n",
        "\n",
        "print(\"Element at (1st row, 2nd column):\", value1)\n",
        "print(\"Element at (3rd row, 1st column):\", value2)\n"
      ],
      "metadata": {
        "colab": {
          "base_uri": "https://localhost:8080/"
        },
        "id": "vJf4EQKKPHph",
        "outputId": "e13e35da-2ec3-4e1f-8bc3-62668eac4b1e"
      },
      "execution_count": 4,
      "outputs": [
        {
          "output_type": "stream",
          "name": "stdout",
          "text": [
            "Element at (1st row, 2nd column): 20\n",
            "Element at (3rd row, 1st column): 70\n"
          ]
        }
      ]
    },
    {
      "cell_type": "markdown",
      "source": [
        "Q.4 Write program to create an 1-D NumPy array named <<Your Name>> with evenly\n",
        "spaced 25 numbers from 10 to 100 using linspace(). Print the dimensions of the array,\n",
        "shape, total elements, the data type of each element and total number of bytes consumed\n",
        "by the array. Find the transpose of this array using reshape() attribute. Can we do the same\n",
        "with T attribute?\n"
      ],
      "metadata": {
        "id": "TDQv-sCjPdJK"
      }
    },
    {
      "cell_type": "code",
      "source": [
        "my_name = np.linspace(10, 100, 25)\n",
        "\n",
        "print(\"Array:\", my_name)\n",
        "print(\"Dimensions:\", my_name.ndim)\n",
        "print(\"Shape:\", my_name.shape)\n",
        "print(\"Total Elements:\", my_name.size)\n",
        "print(\"Data Type:\", my_name.dtype)\n",
        "print(\"Bytes Consumed:\", my_name.nbytes)\n",
        "\n",
        "transposed_array = my_name.reshape(25, 1)\n",
        "print(\"Transposed Array (using reshape()):\\n\", transposed_array)\n",
        "\n",
        "transposed_t = my_name.T\n",
        "print(\"Transposed using .T:\", transposed_t)\n"
      ],
      "metadata": {
        "colab": {
          "base_uri": "https://localhost:8080/"
        },
        "id": "kvlBf9A8PV5q",
        "outputId": "eeb8666b-843e-406b-cbbf-ef7c46581c1c"
      },
      "execution_count": 3,
      "outputs": [
        {
          "output_type": "stream",
          "name": "stdout",
          "text": [
            "Array: [ 10.    13.75  17.5   21.25  25.    28.75  32.5   36.25  40.    43.75\n",
            "  47.5   51.25  55.    58.75  62.5   66.25  70.    73.75  77.5   81.25\n",
            "  85.    88.75  92.5   96.25 100.  ]\n",
            "Dimensions: 1\n",
            "Shape: (25,)\n",
            "Total Elements: 25\n",
            "Data Type: float64\n",
            "Bytes Consumed: 200\n",
            "Transposed Array (using reshape()):\n",
            " [[ 10.  ]\n",
            " [ 13.75]\n",
            " [ 17.5 ]\n",
            " [ 21.25]\n",
            " [ 25.  ]\n",
            " [ 28.75]\n",
            " [ 32.5 ]\n",
            " [ 36.25]\n",
            " [ 40.  ]\n",
            " [ 43.75]\n",
            " [ 47.5 ]\n",
            " [ 51.25]\n",
            " [ 55.  ]\n",
            " [ 58.75]\n",
            " [ 62.5 ]\n",
            " [ 66.25]\n",
            " [ 70.  ]\n",
            " [ 73.75]\n",
            " [ 77.5 ]\n",
            " [ 81.25]\n",
            " [ 85.  ]\n",
            " [ 88.75]\n",
            " [ 92.5 ]\n",
            " [ 96.25]\n",
            " [100.  ]]\n",
            "Transposed using .T: [ 10.    13.75  17.5   21.25  25.    28.75  32.5   36.25  40.    43.75\n",
            "  47.5   51.25  55.    58.75  62.5   66.25  70.    73.75  77.5   81.25\n",
            "  85.    88.75  92.5   96.25 100.  ]\n"
          ]
        }
      ]
    },
    {
      "cell_type": "markdown",
      "source": [
        "Q5. Create a 2-D Array of three rows and four columns, named ucs420_<your_name>>\n",
        "with following values – 10, 20, 30, 40, 50, 60, 70, 80, 90, 15, 20, 35. Compute the mean,\n",
        "median, max, min, unique elements. Reshape the array to four rows and three columns and\n",
        "name it as reshaped_ ucs420_<your_name>>. Resize the array to two rows and three\n",
        "columns and name it as resized_ ucs420_<your_name>>."
      ],
      "metadata": {
        "id": "qIXCgxTxP9H8"
      }
    },
    {
      "cell_type": "code",
      "source": [
        "ucs420_swastika = np.array([[10,20,30,40],\n",
        "                       [50,60,70,80],\n",
        "                       [90,15,20,35]])\n",
        "print(\"The array:\",ucs420_swastika)\n",
        "\n",
        "mean_value = np.mean(ucs420_swastika)\n",
        "median_value = np.median(ucs420_swastika)\n",
        "max_value = np.max(ucs420_swastika)\n",
        "min_value = np.min(ucs420_swastika)\n",
        "unique_elements = np.unique(ucs420_swastika)\n",
        "\n",
        "print(\"Mean:\", mean_value)\n",
        "print(\"Median:\", median_value)\n",
        "print(\"Max:\", max_value)\n",
        "print(\"Min:\", min_value)\n",
        "print(\"Unique Elements:\", unique_elements)\n",
        "\n",
        "reshaped_ucs420_swastika = ucs420_swastika.reshape(4, 3)\n",
        "print(\"\\nReshaped_ucs420_swastika:\\n\", reshaped_ucs420_swastika)\n",
        "\n",
        "resized_ucs420_swastika = np.resize(ucs420_swastika, (2, 3))\n",
        "print(\"\\nResized_ucs420_swastika:\\n\", resized_ucs420_swastika)"
      ],
      "metadata": {
        "id": "KdTFUQE8SwN9",
        "outputId": "9e1e4f42-00ed-439d-d1fd-ecde15d91803",
        "colab": {
          "base_uri": "https://localhost:8080/"
        }
      },
      "execution_count": 8,
      "outputs": [
        {
          "output_type": "stream",
          "name": "stdout",
          "text": [
            "The array: [[10 20 30 40]\n",
            " [50 60 70 80]\n",
            " [90 15 20 35]]\n",
            "Mean: 43.333333333333336\n",
            "Median: 37.5\n",
            "Max: 90\n",
            "Min: 10\n",
            "Unique Elements: [10 15 20 30 35 40 50 60 70 80 90]\n",
            "\n",
            "Reshaped_ucs420_swastika:\n",
            " [[10 20 30]\n",
            " [40 50 60]\n",
            " [70 80 90]\n",
            " [15 20 35]]\n",
            "\n",
            "Resized_ucs420_swastika:\n",
            " [[10 20 30]\n",
            " [40 50 60]]\n"
          ]
        }
      ]
    }
  ]
}