{
 "cells": [
  {
   "cell_type": "markdown",
   "id": "e86053f5-b34a-4f26-b5ef-ad0436d5b25e",
   "metadata": {},
   "source": [
    "***5.1: WAP to find max amoung three numbers and input from user.***"
   ]
  },
  {
   "cell_type": "code",
   "execution_count": 4,
   "id": "c1c4eafa-cbd8-4542-b4a7-b0fe1f51c868",
   "metadata": {},
   "outputs": [
    {
     "name": "stdin",
     "output_type": "stream",
     "text": [
      "Enter First No:  2\n",
      "Enter Second No:  5\n",
      "Enter Third No:  7\n"
     ]
    },
    {
     "name": "stdout",
     "output_type": "stream",
     "text": [
      "Max no. is: 7\n"
     ]
    }
   ],
   "source": [
    "a = int(input(\"Enter First No: \"))\n",
    "b = int(input(\"Enter Second No: \"))\n",
    "c = int(input(\"Enter Third No: \"))\n",
    "ans=max(a,b,c)\n",
    "print(\"Max no. is:\",ans)"
   ]
  },
  {
   "cell_type": "markdown",
   "id": "0fdeb718-957d-4ccb-a9ef-d599c4eee75b",
   "metadata": {},
   "source": [
    "***5.2: WAP to add all numbers divisible by 7 and 9 from 1 to n and n is given by the user.***"
   ]
  },
  {
   "cell_type": "code",
   "execution_count": 13,
   "id": "404556c4-5ccc-4411-8096-7bf471ddf607",
   "metadata": {},
   "outputs": [
    {
     "name": "stdin",
     "output_type": "stream",
     "text": [
      "Enter a No:  150\n"
     ]
    },
    {
     "name": "stdout",
     "output_type": "stream",
     "text": [
      "Final ans is: 189\n"
     ]
    }
   ],
   "source": [
    "n = int(input(\"Enter a No: \"))\n",
    "sum=0\n",
    "for i in range(1,n+1):\n",
    "    if i%7==0 and i%9==0:\n",
    "        sum=sum+i\n",
    "print(\"Final answer is:\",sum)"
   ]
  },
  {
   "cell_type": "markdown",
   "id": "382ecbf9-fcdd-4fcf-914e-0ab1f8ce5a43",
   "metadata": {},
   "source": [
    "***5.3: WAP to add all prime numbers from 1 to n and n is given by the user.***"
   ]
  },
  {
   "cell_type": "code",
   "execution_count": 38,
   "id": "5d08428b-da1c-4094-bd29-749bca44186b",
   "metadata": {},
   "outputs": [
    {
     "name": "stdin",
     "output_type": "stream",
     "text": [
      "Enter a No:  25\n"
     ]
    },
    {
     "name": "stdout",
     "output_type": "stream",
     "text": [
      "Sum of prime numbers from 1 to 25 is: 100\n"
     ]
    }
   ],
   "source": [
    "n = int(input(\"Enter a No: \"))\n",
    "sum = 0\n",
    "for num in range(2, n + 1):\n",
    "    is_prime = True\n",
    "    for i in range(2, int(num**0.5) + 1):\n",
    "        if num % i == 0:\n",
    "            is_prime = False\n",
    "            break\n",
    "    if is_prime:\n",
    "        sum += num\n",
    "print(\"Sum of prime numbers from 1 to\", n, \"is:\", sum)"
   ]
  },
  {
   "cell_type": "code",
   "execution_count": null,
   "id": "c993cca6-fcf2-4bb4-ba6b-7290425a32cf",
   "metadata": {},
   "outputs": [],
   "source": []
  }
 ],
 "metadata": {
  "kernelspec": {
   "display_name": "anaconda-2024.02-py310",
   "language": "python",
   "name": "conda-env-anaconda-2024.02-py310-py"
  },
  "language_info": {
   "codemirror_mode": {
    "name": "ipython",
    "version": 3
   },
   "file_extension": ".py",
   "mimetype": "text/x-python",
   "name": "python",
   "nbconvert_exporter": "python",
   "pygments_lexer": "ipython3",
   "version": "3.10.14"
  }
 },
 "nbformat": 4,
 "nbformat_minor": 5
}
