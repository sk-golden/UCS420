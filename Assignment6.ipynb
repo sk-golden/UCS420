{
 "cells": [
  {
   "cell_type": "markdown",
   "id": "b18d4a5c-7747-4638-ae0a-ea8ae1493ac4",
   "metadata": {},
   "source": [
    "***6.1: WAP using function that add all odd numbers from 1 to n, n is given by the user.***"
   ]
  },
  {
   "cell_type": "code",
   "execution_count": 9,
   "id": "556ad8f0-7339-4440-b013-a0d053daaf69",
   "metadata": {},
   "outputs": [
    {
     "name": "stdin",
     "output_type": "stream",
     "text": [
      "Enter a No:  11\n"
     ]
    },
    {
     "name": "stdout",
     "output_type": "stream",
     "text": [
      "sum: 36\n"
     ]
    }
   ],
   "source": [
    "def odd(n):\n",
    "    sum=0\n",
    "    for i in range(1, n + 1):\n",
    "        if i%2!=0:\n",
    "            sum=sum+i\n",
    "    print(\"sum:\", sum)\n",
    "k = int(input(\"Enter a No: \"))\n",
    "odd(k)"
   ]
  },
  {
   "cell_type": "markdown",
   "id": "7717dd2e-7994-4973-b424-7ab45d77442f",
   "metadata": {},
   "source": [
    "***6.2:WAP using function that add all prime numbers from 1 to n, n given by the user.***"
   ]
  },
  {
   "cell_type": "code",
   "execution_count": 17,
   "id": "d1cd4021-71f0-43fd-998b-c01b82031292",
   "metadata": {},
   "outputs": [
    {
     "name": "stdin",
     "output_type": "stream",
     "text": [
      "Enter a No:  10\n"
     ]
    },
    {
     "name": "stdout",
     "output_type": "stream",
     "text": [
      "Sum of prime numbers from 1 to 10 is: 17\n"
     ]
    }
   ],
   "source": [
    "def sum_prime(n):\n",
    "    sum_prime= 0\n",
    "    \n",
    "    for num in range(2, n + 1):\n",
    "        is_prime = True\n",
    "        for i in range(2, int(num**0.5) + 1):\n",
    "            if num % i == 0:\n",
    "                is_prime = False\n",
    "                break\n",
    "        if is_prime:\n",
    "            sum_prime += num\n",
    "            \n",
    "    return sum_prime\n",
    "\n",
    "n = int(input(\"Enter a No: \"))\n",
    "result = sum_prime(n)\n",
    "print(\"Sum of prime numbers from 1 to\", n, \"is:\", result)"
   ]
  },
  {
   "cell_type": "code",
   "execution_count": null,
   "id": "1426c037-dfd7-4c0d-8797-1308faf8e84d",
   "metadata": {},
   "outputs": [],
   "source": []
  }
 ],
 "metadata": {
  "kernelspec": {
   "display_name": "anaconda-2024.02-py310",
   "language": "python",
   "name": "conda-env-anaconda-2024.02-py310-py"
  },
  "language_info": {
   "codemirror_mode": {
    "name": "ipython",
    "version": 3
   },
   "file_extension": ".py",
   "mimetype": "text/x-python",
   "name": "python",
   "nbconvert_exporter": "python",
   "pygments_lexer": "ipython3",
   "version": "3.10.14"
  }
 },
 "nbformat": 4,
 "nbformat_minor": 5
}
