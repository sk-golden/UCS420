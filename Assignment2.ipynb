{
 "cells": [
  {
   "cell_type": "markdown",
   "id": "24d42d10-31aa-46d9-a857-d7fe23e14040",
   "metadata": {},
   "source": [
    "***2.1: WAP to add 3 no. and print result***"
   ]
  },
  {
   "cell_type": "code",
   "execution_count": 4,
   "id": "4c2516ba-4ee9-48f7-8a14-ce022d9c2e12",
   "metadata": {},
   "outputs": [
    {
     "name": "stdout",
     "output_type": "stream",
     "text": [
      "Sum of three numbers is: 100\n"
     ]
    }
   ],
   "source": [
    "n1=30\n",
    "n2=40\n",
    "n3=30\n",
    "sum=n1+n2+n3\n",
    "print(\"Sum of three numbers is:\",sum)"
   ]
  },
  {
   "cell_type": "markdown",
   "id": "d929948e-16d4-46c2-81fa-a871d3a94fb2",
   "metadata": {},
   "source": [
    "***2.2 WAP to concatinate 3 strings and print result***"
   ]
  },
  {
   "cell_type": "code",
   "execution_count": 13,
   "id": "ca017cc9-6c56-4135-81df-639bcfcd7926",
   "metadata": {},
   "outputs": [
    {
     "name": "stdout",
     "output_type": "stream",
     "text": [
      "After contatination: YOU WILL WIN!!\n"
     ]
    }
   ],
   "source": [
    "str1=\"YOU\"\n",
    "str2=\" WILL\"\n",
    "str3=\" WIN!!\"\n",
    "str=str1 +str2 +str3\n",
    "print(\"After contatination:\",str)"
   ]
  },
  {
   "cell_type": "code",
   "execution_count": null,
   "id": "bdd95181-3c19-40b5-b343-f98495ab8b20",
   "metadata": {},
   "outputs": [],
   "source": []
  }
 ],
 "metadata": {
  "kernelspec": {
   "display_name": "anaconda-2024.02-py310",
   "language": "python",
   "name": "conda-env-anaconda-2024.02-py310-py"
  },
  "language_info": {
   "codemirror_mode": {
    "name": "ipython",
    "version": 3
   },
   "file_extension": ".py",
   "mimetype": "text/x-python",
   "name": "python",
   "nbconvert_exporter": "python",
   "pygments_lexer": "ipython3",
   "version": "3.10.14"
  }
 },
 "nbformat": 4,
 "nbformat_minor": 5
}
