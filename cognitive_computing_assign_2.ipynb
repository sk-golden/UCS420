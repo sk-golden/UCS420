{
  "nbformat": 4,
  "nbformat_minor": 0,
  "metadata": {
    "colab": {
      "provenance": []
    },
    "kernelspec": {
      "name": "python3",
      "display_name": "Python 3"
    },
    "language_info": {
      "name": "python"
    }
  },
  "cells": [
    {
      "cell_type": "code",
      "execution_count": null,
      "metadata": {
        "colab": {
          "base_uri": "https://localhost:8080/"
        },
        "id": "XiSQu3QgaKsp",
        "outputId": "73125ae1-540d-4f53-d3f8-fc307e9047ad"
      },
      "outputs": [
        {
          "output_type": "stream",
          "name": "stdout",
          "text": [
            "List in ascending order: [20, 40, 50, 60, 70, 80, 200, 300]\n",
            "List in descending order: [300, 200, 80, 70, 60, 50, 40, 20]\n"
          ]
        }
      ],
      "source": [
        "L =[10,20,30,40,50,60,70,80]\n",
        "L.append(200)\n",
        "L.append(300)\n",
        "\n",
        "L.remove(10)\n",
        "L.remove(30)\n",
        "L.sort()\n",
        "print(\"List in ascending order:\",L)\n",
        "L.sort(reverse=True)\n",
        "print(\"List in descending order:\",L)"
      ]
    },
    {
      "cell_type": "code",
      "source": [
        "scores=(45,89.5,76,45.4,89,92,58,45)\n",
        "highest_score=max(scores)\n",
        "highest_index=scores.index(highest_score)\n",
        "print(f\"Highest score:{highest_score},Index:{highest_index}\")\n",
        "lowest_score=min(scores)\n",
        "lowest_count=scores.count(lowest_score)\n",
        "print(f\"Lowest score:{lowest_score},Count:{lowest_count}\")\n",
        "reversed_list=list(reversed(scores))\n",
        "print(f\"Reversed tuple as a list:{reversed_list}\")\n",
        "user_score=76\n",
        "if user_score in scores:\n",
        "  first_occurrence_index=scores.index(user_score)\n",
        "  print(f\"The score{user_score}is present at index {first_occurrence_index}.\")\n",
        "else:\n",
        "  print(f\"The score{user_score}is not present in the tuple.\")\n",
        "\n"
      ],
      "metadata": {
        "colab": {
          "base_uri": "https://localhost:8080/"
        },
        "id": "lv0g4f84bWk-",
        "outputId": "fefd4caa-c89a-4258-b8d3-6d898ebc556e"
      },
      "execution_count": null,
      "outputs": [
        {
          "output_type": "stream",
          "name": "stdout",
          "text": [
            "Highest score:92,Index:5\n",
            "Lowest score:45,Count:2\n",
            "Reversed tuple as a list:[45, 58, 92, 89, 45.4, 76, 89.5, 45]\n",
            "The score76is present at index 2.\n"
          ]
        }
      ]
    },
    {
      "cell_type": "code",
      "source": [
        "import random\n",
        "\n",
        "def is_prime(n):\n",
        "    if n <= 1:\n",
        "        return False\n",
        "    for i in range(2, int(n ** 0.5) + 1):\n",
        "        if n % i == 0:\n",
        "            return False\n",
        "    return True\n",
        "\n",
        "random_numbers = [random.randint(100, 900) for _ in range(100)]\n",
        "\n",
        "odd_numbers = []\n",
        "even_numbers = []\n",
        "prime_numbers = []\n",
        "\n",
        "for num in random_numbers:\n",
        "    if num % 2 == 0:\n",
        "        even_numbers.append(num)\n",
        "    else:\n",
        "        odd_numbers.append(num)\n",
        "\n",
        "    if is_prime(num):\n",
        "        prime_numbers.append(num)\n",
        "\n",
        "print(f\"Odd numbers: {odd_numbers}\")\n",
        "print(f\"Count of odd numbers: {len(odd_numbers)}\")\n",
        "\n",
        "print(f\"Even numbers: {even_numbers}\")\n",
        "print(f\"Count of even numbers: {len(even_numbers)}\")\n",
        "\n",
        "print(f\"Prime numbers: {prime_numbers}\")\n",
        "print(f\"Count of prime numbers: {len(prime_numbers)}\")\n"
      ],
      "metadata": {
        "id": "xFRjNCkSbWsM",
        "colab": {
          "base_uri": "https://localhost:8080/"
        },
        "outputId": "fd13154d-bc78-45a3-943d-d7caf3218af2"
      },
      "execution_count": null,
      "outputs": [
        {
          "output_type": "stream",
          "name": "stdout",
          "text": [
            "Odd numbers: [449, 331, 567, 203, 197, 223, 511, 869, 549, 263, 327, 155, 591, 381, 889, 837, 105, 771, 487, 677, 741, 253, 291, 821, 551, 569, 513, 631, 375, 181, 611, 533, 203, 247, 783, 825, 347, 169, 693, 159, 209, 123, 569, 499, 101, 407, 483, 421, 389, 571, 217, 741, 279, 755]\n",
            "Count of odd numbers: 54\n",
            "Even numbers: [782, 826, 344, 454, 628, 768, 698, 280, 238, 698, 596, 646, 446, 884, 794, 292, 248, 438, 588, 314, 328, 338, 270, 688, 280, 138, 668, 448, 860, 884, 604, 394, 410, 382, 708, 424, 502, 250, 646, 750, 286, 228, 328, 818, 276, 432]\n",
            "Count of even numbers: 46\n",
            "Prime numbers: [449, 331, 197, 223, 263, 487, 677, 821, 569, 631, 181, 347, 569, 499, 101, 421, 389, 571]\n",
            "Count of prime numbers: 18\n"
          ]
        }
      ]
    },
    {
      "cell_type": "code",
      "source": [
        "A = {34, 56, 78, 90}\n",
        "B = {78, 45, 90, 23}\n",
        "\n",
        "union_of_sets = A.union(B)\n",
        "print(f\"Unique scores achieved by both teams (Union): {union_of_sets}\")\n",
        "\n",
        "intersection_of_sets = A.intersection(B)\n",
        "print(f\"Scores common to both teams (Intersection): {intersection_of_sets}\")\n",
        "\n",
        "symmetric_difference = A.symmetric_difference(B)\n",
        "print(f\"Scores exclusive to each team (Symmetric Difference): {symmetric_difference}\")\n",
        "\n",
        "is_A_subset_of_B = A.issubset(B)\n",
        "is_B_superset_of_A = B.issuperset(A)\n",
        "print(f\"Are team A's scores a subset of team B's scores? {is_A_subset_of_B}\")\n",
        "print(f\"Are team B's scores a superset of team A's scores? {is_B_superset_of_A}\")\n",
        "\n",
        "score_to_remove = int(input(\"Enter the score to remove from team A: \"))\n",
        "\n",
        "if score_to_remove in A:\n",
        "    A.remove(score_to_remove)\n",
        "    print(f\"Score {score_to_remove} removed from team A.\")\n",
        "else:\n",
        "    print(f\"Score {score_to_remove} not found in team A.\")\n"
      ],
      "metadata": {
        "colab": {
          "base_uri": "https://localhost:8080/"
        },
        "id": "RkcbQtGa-9HQ",
        "outputId": "59a7f13a-d870-416c-e0a5-1b79ebe26343"
      },
      "execution_count": null,
      "outputs": [
        {
          "output_type": "stream",
          "name": "stdout",
          "text": [
            "Unique scores achieved by both teams (Union): {34, 45, 78, 23, 56, 90}\n",
            "Scores common to both teams (Intersection): {90, 78}\n",
            "Scores exclusive to each team (Symmetric Difference): {34, 45, 23, 56}\n",
            "Are team A's scores a subset of team B's scores? False\n",
            "Are team B's scores a superset of team A's scores? False\n",
            "Enter the score to remove from team A: 56\n",
            "Score 56 removed from team A.\n"
          ]
        }
      ]
    },
    {
      "cell_type": "code",
      "source": [
        "sample_dict = {\n",
        "    \"name\": \"Kelly\",\n",
        "    \"age\": 25,\n",
        "    \"salary\": 8000,\n",
        "    \"city\": \"New york\"\n",
        "}\n",
        "\n",
        "sample_dict[\"location\"] = sample_dict.pop(\"city\")\n",
        "\n",
        "print(sample_dict)"
      ],
      "metadata": {
        "colab": {
          "base_uri": "https://localhost:8080/"
        },
        "id": "Ab5dYoTN_RWN",
        "outputId": "8b4fba56-a786-4f7c-a839-a1fb026769f2"
      },
      "execution_count": null,
      "outputs": [
        {
          "output_type": "stream",
          "name": "stdout",
          "text": [
            "{'name': 'Kelly', 'age': 25, 'salary': 8000, 'location': 'New york'}\n"
          ]
        }
      ]
    }
  ]
}